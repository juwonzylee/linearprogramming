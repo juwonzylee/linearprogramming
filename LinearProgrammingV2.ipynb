{
 "cells": [
  {
   "cell_type": "code",
   "execution_count": 1,
   "metadata": {
    "id": "z3E5WxaMwu9r"
   },
   "outputs": [],
   "source": [
    "import pulp as p\n",
    "import pandas as pd\n",
    "import time"
   ]
  },
  {
   "cell_type": "code",
   "execution_count": 5,
   "metadata": {},
   "outputs": [],
   "source": [
    "def cleanData(filename):\n",
    "    student_data = pd.read_excel(filename, sheet_name='pivot')\n",
    "    school_data = pd.read_excel(filename, sheet_name='school_data')\n",
    "    \n",
    "    student_num = student_data.shape[0]-2\n",
    "    school_num = len(school_data.columns)\n",
    "    school_index_dic = {}\n",
    "    for i in range(school_num):\n",
    "        school_index_dic[i] = school_data.columns[i]\n",
    "    \n",
    "    return student_data, school_data, school_index_dic, school_num, student_num"
   ]
  },
  {
   "cell_type": "code",
   "execution_count": 6,
   "metadata": {},
   "outputs": [],
   "source": [
    "def linearProgramming(student_num, school_num, student_data, school_data, school_index_dic):\n",
    "    # create minimization LP problem\n",
    "    Lp_prob = p.LpProblem('Problem', p.LpMinimize)\n",
    "\n",
    "    var_list = []\n",
    "    for i in range(student_num):\n",
    "      for j in range(school_num):\n",
    "        var_list.append(\"x_%d_%d\"%(i,j))\n",
    "\n",
    "    # objective function\n",
    "    dist_dic = {}\n",
    "    for i in range(0,student_num):\n",
    "      for j in range(0,school_num):\n",
    "        value = student_data[school_index_dic[j]][i+2]\n",
    "        dist_dic[\"x_%d_%d\"%(i,j)]=9999 if value!=value else value\n",
    "\n",
    "\n",
    "    conc_vars = p.LpVariable.dicts(\"alloc\", var_list, 0, 1)\n",
    "\n",
    "    obj = p.lpSum([dist_dic[i]*conc_vars[i] for i in var_list])\n",
    "    Lp_prob += obj\n",
    "    \n",
    "    # adding constraints\n",
    "    # student\n",
    "    for j in range(student_num):\n",
    "      tmp = p.lpSum([conc_vars[i] for i in var_list if i.split('_')[1]==str(j)])\n",
    "      Lp_prob += tmp >= 1\n",
    "\n",
    "    # school\n",
    "    for k in range(school_num):\n",
    "      tmp = p.lpSum([conc_vars[i] for i in var_list if i.split('_')[2]==str(k)])\n",
    "      Lp_prob += tmp <= school_data[school_index_dic[k]][0]\n",
    "    \n",
    "    # create solver\n",
    "    status = Lp_prob.solve(p.COIN(path='/usr/bin/cbc'))\n",
    "    \n",
    "    return p.LpStatus[status], conc_vars, var_list"
   ]
  },
  {
   "cell_type": "code",
   "execution_count": 7,
   "metadata": {},
   "outputs": [],
   "source": [
    "# writing out to excel file\n",
    "def write_out(student_data, var_list, conc_vars, school_index_dic, school_num, filename):\n",
    "    allocated = ['','']\n",
    "    \n",
    "    k = 0\n",
    "    length = len(var_list)\n",
    "    for i in range(0,length,school_num):\n",
    "        for j in range(school_num):\n",
    "            if p.value(conc_vars[var_list[i+j]]) == 1:\n",
    "                allocated.append(school_index_dic[int(var_list[i+j].split('_')[2])])\n",
    "\n",
    "    student_data['선형계획법 배정학교']= pd.Series(allocated)\n",
    "    student_data.to_excel(filename)"
   ]
  },
  {
   "cell_type": "code",
   "execution_count": 8,
   "metadata": {},
   "outputs": [],
   "source": [
    "def main(input_file, output_file):\n",
    "    student_data, school_data, school_index_dic, school_num, student_num = cleanData(input_file)\n",
    "    status, conc_vars, var_list = linearProgramming(student_num, school_num, student_data, school_data, school_index_dic)\n",
    "    write_out(student_data, var_list, conc_vars, school_index_dic, school_num, output_file)"
   ]
  },
  {
   "cell_type": "code",
   "execution_count": 9,
   "metadata": {},
   "outputs": [],
   "source": [
    "if __name__=='__main__':\n",
    "    main('seongbuk_1.xlsx', 'seongbuk_1_LP_result.xlsx')"
   ]
  }
 ],
 "metadata": {
  "colab": {
   "name": "LinearProgramming",
   "provenance": []
  },
  "kernelspec": {
   "display_name": "Python 3",
   "language": "python",
   "name": "python3"
  },
  "language_info": {
   "codemirror_mode": {
    "name": "ipython",
    "version": 3
   },
   "file_extension": ".py",
   "mimetype": "text/x-python",
   "name": "python",
   "nbconvert_exporter": "python",
   "pygments_lexer": "ipython3",
   "version": "3.6.9"
  }
 },
 "nbformat": 4,
 "nbformat_minor": 4
}
